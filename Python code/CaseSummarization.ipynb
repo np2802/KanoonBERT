{
  "nbformat": 4,
  "nbformat_minor": 0,
  "metadata": {
    "colab": {
      "provenance": [],
      "gpuType": "T4",
      "include_colab_link": true
    },
    "kernelspec": {
      "name": "python3",
      "display_name": "Python 3"
    },
    "language_info": {
      "name": "python"
    },
    "accelerator": "GPU"
  },
  "cells": [
    {
      "cell_type": "markdown",
      "metadata": {
        "id": "view-in-github",
        "colab_type": "text"
      },
      "source": [
        "<a href=\"https://colab.research.google.com/github/np2802/Indian-Legal-Semantic-Searcher/blob/main/CaseSummarization.ipynb\" target=\"_parent\"><img src=\"https://colab.research.google.com/assets/colab-badge.svg\" alt=\"Open In Colab\"/></a>"
      ]
    },
    {
      "cell_type": "code",
      "source": [
        "from google.colab import drive\n",
        "drive.mount('/content/drive')"
      ],
      "metadata": {
        "colab": {
          "base_uri": "https://localhost:8080/"
        },
        "id": "kVofC1HFIN9U",
        "outputId": "6ba3d8fe-15de-4ad3-a73a-e67547aa6df0"
      },
      "execution_count": null,
      "outputs": [
        {
          "output_type": "stream",
          "name": "stdout",
          "text": [
            "Drive already mounted at /content/drive; to attempt to forcibly remount, call drive.mount(\"/content/drive\", force_remount=True).\n"
          ]
        }
      ]
    },
    {
      "cell_type": "code",
      "source": [
        "import torch\n",
        "\n",
        "# Check if GPU is available and set device\n",
        "device = 'cuda' if torch.cuda.is_available() else 'cpu'\n",
        "print(f\"Using device: {device}\")"
      ],
      "metadata": {
        "colab": {
          "base_uri": "https://localhost:8080/"
        },
        "id": "6J0nHsVJvA2n",
        "outputId": "48ed1e21-112a-4fd4-ba9a-e3b84ee3beef"
      },
      "execution_count": null,
      "outputs": [
        {
          "output_type": "stream",
          "name": "stdout",
          "text": [
            "Using device: cpu\n"
          ]
        }
      ]
    },
    {
      "cell_type": "code",
      "source": [
        "import spacy\n",
        "\n",
        "# Increase max length limit in spacy\n",
        "nlp = spacy.blank('en')\n",
        "nlp.max_length = 5000000"
      ],
      "metadata": {
        "colab": {
          "base_uri": "https://localhost:8080/"
        },
        "id": "Kle0QokpDa8X",
        "outputId": "87e004a1-aa67-4c49-f4f8-e5815a23d6b8"
      },
      "execution_count": null,
      "outputs": [
        {
          "output_type": "stream",
          "name": "stderr",
          "text": [
            "/usr/local/lib/python3.10/dist-packages/spacy/util.py:1740: UserWarning: [W111] Jupyter notebook detected: if using `prefer_gpu()` or `require_gpu()`, include it in the same cell right before `spacy.load()` to ensure that the model is loaded on the correct device. More information: http://spacy.io/usage/v3#jupyter-notebook-gpu\n",
            "  warnings.warn(Warnings.W111)\n"
          ]
        }
      ]
    },
    {
      "cell_type": "code",
      "source": [
        "import time\n",
        "import pandas as pd\n",
        "from transformers import BartTokenizer, BartForConditionalGeneration\n",
        "import torch\n",
        "\n",
        "\n",
        "# Path to the CSV file\n",
        "csv_file_path = '/content/drive/MyDrive/FYP/Topic_Modelling_New/topic_assignments_with_content.csv'\n",
        "\n",
        "# Load the CSV file into a DataFrame\n",
        "df = pd.read_csv(csv_file_path)\n",
        "\n",
        "# Load BART model and tokenizer\n",
        "model_name = 'facebook/bart-large-cnn'\n",
        "tokenizer = BartTokenizer.from_pretrained(model_name)\n",
        "model = BartForConditionalGeneration.from_pretrained(model_name).to(device)\n",
        "\n",
        "# Function to summarize content\n",
        "def summarize_content(content):\n",
        "    # Tokenize input\n",
        "    inputs = tokenizer.encode(\"summarize: \" + content, return_tensors=\"pt\", max_length=1024, truncation=True).to(device)\n",
        "\n",
        "    # Generate summary\n",
        "    summary_ids = model.generate(inputs, max_length=150, min_length=40, length_penalty=2.0, num_beams=4, early_stopping=True)\n",
        "    summary = tokenizer.decode(summary_ids[0], skip_special_tokens=True)\n",
        "\n",
        "    return summary\n",
        "\n",
        "# Apply summarization to each row in the 'Content' column and create a new 'Summary' column\n",
        "def process_dataframe(df):\n",
        "    summaries = []\n",
        "    for index, row in df.iterrows():\n",
        "        content = row['Content']\n",
        "        file_name = row['File Name']\n",
        "        print(f\"Summarizing document: {file_name}\")\n",
        "\n",
        "        # Record start time\n",
        "        start_time = time.time()\n",
        "\n",
        "        # Summarize the content\n",
        "        summary = summarize_content(content)\n",
        "\n",
        "        # Record end time\n",
        "        end_time = time.time()\n",
        "\n",
        "        # Calculate and print time taken\n",
        "        time_taken = end_time - start_time\n",
        "        print(f\"Time taken to summarize document {file_name}: {time_taken:.2f} seconds\")\n",
        "\n",
        "        summaries.append(summary)\n",
        "\n",
        "    df['Summary'] = summaries\n",
        "    return df\n",
        "\n",
        "# Process the DataFrame\n",
        "df = process_dataframe(df)\n",
        "\n",
        "# Save the updated DataFrame back to CSV\n",
        "output_csv_file_path = '/content/drive/MyDrive/FYP/Dataset/TopicAssignment_with_summaries.csv'\n",
        "df.to_csv(output_csv_file_path, index=False)\n",
        "\n",
        "print(f\"Summaries saved to {output_csv_file_path}\")\n"
      ],
      "metadata": {
        "id": "ToHT1o1ZHnzz"
      },
      "execution_count": null,
      "outputs": []
    }
  ]
}