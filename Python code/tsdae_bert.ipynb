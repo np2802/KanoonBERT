{
  "cells": [
    {
      "cell_type": "markdown",
      "metadata": {
        "id": "view-in-github",
        "colab_type": "text"
      },
      "source": [
        "<a href=\"https://colab.research.google.com/github/np2802/Indian-Legal-Semantic-Searcher/blob/main/tsdae_bert.ipynb\" target=\"_parent\"><img src=\"https://colab.research.google.com/assets/colab-badge.svg\" alt=\"Open In Colab\"/></a>"
      ]
    },
    {
      "cell_type": "markdown",
      "metadata": {
        "id": "ux4XrBQgDJxe"
      },
      "source": [
        "## Transformer-based Denoising AutoEncoder"
      ]
    },
    {
      "cell_type": "markdown",
      "metadata": {
        "id": "owFGxUWuE4GV"
      },
      "source": [
        "### Installation of dependencies"
      ]
    },
    {
      "cell_type": "code",
      "execution_count": null,
      "metadata": {
        "colab": {
          "base_uri": "https://localhost:8080/"
        },
        "id": "ySaDqMUPq3GF",
        "outputId": "0d80e762-74e0-4881-8f83-f271e986b7fb"
      },
      "outputs": [
        {
          "output_type": "stream",
          "name": "stdout",
          "text": [
            "Mounted at /content/drive\n"
          ]
        }
      ],
      "source": [
        "from google.colab import drive\n",
        "drive.mount('/content/drive')"
      ]
    },
    {
      "cell_type": "code",
      "execution_count": null,
      "metadata": {
        "colab": {
          "base_uri": "https://localhost:8080/"
        },
        "id": "M3BAwpencNCl",
        "outputId": "50df14e8-631f-45cd-de8a-d7c5da60e5e2"
      },
      "outputs": [
        {
          "output_type": "stream",
          "name": "stdout",
          "text": [
            "Requirement already satisfied: transformers in /usr/local/lib/python3.10/dist-packages (4.40.1)\n",
            "Requirement already satisfied: filelock in /usr/local/lib/python3.10/dist-packages (from transformers) (3.14.0)\n",
            "Requirement already satisfied: huggingface-hub<1.0,>=0.19.3 in /usr/local/lib/python3.10/dist-packages (from transformers) (0.20.3)\n",
            "Requirement already satisfied: numpy>=1.17 in /usr/local/lib/python3.10/dist-packages (from transformers) (1.25.2)\n",
            "Requirement already satisfied: packaging>=20.0 in /usr/local/lib/python3.10/dist-packages (from transformers) (24.0)\n",
            "Requirement already satisfied: pyyaml>=5.1 in /usr/local/lib/python3.10/dist-packages (from transformers) (6.0.1)\n",
            "Requirement already satisfied: regex!=2019.12.17 in /usr/local/lib/python3.10/dist-packages (from transformers) (2023.12.25)\n",
            "Requirement already satisfied: requests in /usr/local/lib/python3.10/dist-packages (from transformers) (2.31.0)\n",
            "Requirement already satisfied: tokenizers<0.20,>=0.19 in /usr/local/lib/python3.10/dist-packages (from transformers) (0.19.1)\n",
            "Requirement already satisfied: safetensors>=0.4.1 in /usr/local/lib/python3.10/dist-packages (from transformers) (0.4.3)\n",
            "Requirement already satisfied: tqdm>=4.27 in /usr/local/lib/python3.10/dist-packages (from transformers) (4.66.2)\n",
            "Requirement already satisfied: fsspec>=2023.5.0 in /usr/local/lib/python3.10/dist-packages (from huggingface-hub<1.0,>=0.19.3->transformers) (2023.6.0)\n",
            "Requirement already satisfied: typing-extensions>=3.7.4.3 in /usr/local/lib/python3.10/dist-packages (from huggingface-hub<1.0,>=0.19.3->transformers) (4.11.0)\n",
            "Requirement already satisfied: charset-normalizer<4,>=2 in /usr/local/lib/python3.10/dist-packages (from requests->transformers) (3.3.2)\n",
            "Requirement already satisfied: idna<4,>=2.5 in /usr/local/lib/python3.10/dist-packages (from requests->transformers) (3.7)\n",
            "Requirement already satisfied: urllib3<3,>=1.21.1 in /usr/local/lib/python3.10/dist-packages (from requests->transformers) (2.0.7)\n",
            "Requirement already satisfied: certifi>=2017.4.17 in /usr/local/lib/python3.10/dist-packages (from requests->transformers) (2024.2.2)\n",
            "Collecting sentence-transformers\n",
            "  Downloading sentence_transformers-2.7.0-py3-none-any.whl (171 kB)\n",
            "\u001b[2K     \u001b[90m━━━━━━━━━━━━━━━━━━━━━━━━━━━━━━━━━━━━━━━━\u001b[0m \u001b[32m171.5/171.5 kB\u001b[0m \u001b[31m4.4 MB/s\u001b[0m eta \u001b[36m0:00:00\u001b[0m\n",
            "\u001b[?25hRequirement already satisfied: transformers<5.0.0,>=4.34.0 in /usr/local/lib/python3.10/dist-packages (from sentence-transformers) (4.40.1)\n",
            "Requirement already satisfied: tqdm in /usr/local/lib/python3.10/dist-packages (from sentence-transformers) (4.66.2)\n",
            "Requirement already satisfied: torch>=1.11.0 in /usr/local/lib/python3.10/dist-packages (from sentence-transformers) (2.2.1+cu121)\n",
            "Requirement already satisfied: numpy in /usr/local/lib/python3.10/dist-packages (from sentence-transformers) (1.25.2)\n",
            "Requirement already satisfied: scikit-learn in /usr/local/lib/python3.10/dist-packages (from sentence-transformers) (1.2.2)\n",
            "Requirement already satisfied: scipy in /usr/local/lib/python3.10/dist-packages (from sentence-transformers) (1.11.4)\n",
            "Requirement already satisfied: huggingface-hub>=0.15.1 in /usr/local/lib/python3.10/dist-packages (from sentence-transformers) (0.20.3)\n",
            "Requirement already satisfied: Pillow in /usr/local/lib/python3.10/dist-packages (from sentence-transformers) (9.4.0)\n",
            "Requirement already satisfied: filelock in /usr/local/lib/python3.10/dist-packages (from huggingface-hub>=0.15.1->sentence-transformers) (3.14.0)\n",
            "Requirement already satisfied: fsspec>=2023.5.0 in /usr/local/lib/python3.10/dist-packages (from huggingface-hub>=0.15.1->sentence-transformers) (2023.6.0)\n",
            "Requirement already satisfied: requests in /usr/local/lib/python3.10/dist-packages (from huggingface-hub>=0.15.1->sentence-transformers) (2.31.0)\n",
            "Requirement already satisfied: pyyaml>=5.1 in /usr/local/lib/python3.10/dist-packages (from huggingface-hub>=0.15.1->sentence-transformers) (6.0.1)\n",
            "Requirement already satisfied: typing-extensions>=3.7.4.3 in /usr/local/lib/python3.10/dist-packages (from huggingface-hub>=0.15.1->sentence-transformers) (4.11.0)\n",
            "Requirement already satisfied: packaging>=20.9 in /usr/local/lib/python3.10/dist-packages (from huggingface-hub>=0.15.1->sentence-transformers) (24.0)\n",
            "Requirement already satisfied: sympy in /usr/local/lib/python3.10/dist-packages (from torch>=1.11.0->sentence-transformers) (1.12)\n",
            "Requirement already satisfied: networkx in /usr/local/lib/python3.10/dist-packages (from torch>=1.11.0->sentence-transformers) (3.3)\n",
            "Requirement already satisfied: jinja2 in /usr/local/lib/python3.10/dist-packages (from torch>=1.11.0->sentence-transformers) (3.1.3)\n",
            "Collecting nvidia-cuda-nvrtc-cu12==12.1.105 (from torch>=1.11.0->sentence-transformers)\n",
            "  Using cached nvidia_cuda_nvrtc_cu12-12.1.105-py3-none-manylinux1_x86_64.whl (23.7 MB)\n",
            "Collecting nvidia-cuda-runtime-cu12==12.1.105 (from torch>=1.11.0->sentence-transformers)\n",
            "  Using cached nvidia_cuda_runtime_cu12-12.1.105-py3-none-manylinux1_x86_64.whl (823 kB)\n",
            "Collecting nvidia-cuda-cupti-cu12==12.1.105 (from torch>=1.11.0->sentence-transformers)\n",
            "  Using cached nvidia_cuda_cupti_cu12-12.1.105-py3-none-manylinux1_x86_64.whl (14.1 MB)\n",
            "Collecting nvidia-cudnn-cu12==8.9.2.26 (from torch>=1.11.0->sentence-transformers)\n",
            "  Using cached nvidia_cudnn_cu12-8.9.2.26-py3-none-manylinux1_x86_64.whl (731.7 MB)\n",
            "Collecting nvidia-cublas-cu12==12.1.3.1 (from torch>=1.11.0->sentence-transformers)\n",
            "  Using cached nvidia_cublas_cu12-12.1.3.1-py3-none-manylinux1_x86_64.whl (410.6 MB)\n",
            "Collecting nvidia-cufft-cu12==11.0.2.54 (from torch>=1.11.0->sentence-transformers)\n",
            "  Using cached nvidia_cufft_cu12-11.0.2.54-py3-none-manylinux1_x86_64.whl (121.6 MB)\n",
            "Collecting nvidia-curand-cu12==10.3.2.106 (from torch>=1.11.0->sentence-transformers)\n",
            "  Using cached nvidia_curand_cu12-10.3.2.106-py3-none-manylinux1_x86_64.whl (56.5 MB)\n",
            "Collecting nvidia-cusolver-cu12==11.4.5.107 (from torch>=1.11.0->sentence-transformers)\n",
            "  Using cached nvidia_cusolver_cu12-11.4.5.107-py3-none-manylinux1_x86_64.whl (124.2 MB)\n",
            "Collecting nvidia-cusparse-cu12==12.1.0.106 (from torch>=1.11.0->sentence-transformers)\n",
            "  Using cached nvidia_cusparse_cu12-12.1.0.106-py3-none-manylinux1_x86_64.whl (196.0 MB)\n",
            "Collecting nvidia-nccl-cu12==2.19.3 (from torch>=1.11.0->sentence-transformers)\n",
            "  Using cached nvidia_nccl_cu12-2.19.3-py3-none-manylinux1_x86_64.whl (166.0 MB)\n",
            "Collecting nvidia-nvtx-cu12==12.1.105 (from torch>=1.11.0->sentence-transformers)\n",
            "  Using cached nvidia_nvtx_cu12-12.1.105-py3-none-manylinux1_x86_64.whl (99 kB)\n",
            "Requirement already satisfied: triton==2.2.0 in /usr/local/lib/python3.10/dist-packages (from torch>=1.11.0->sentence-transformers) (2.2.0)\n",
            "Collecting nvidia-nvjitlink-cu12 (from nvidia-cusolver-cu12==11.4.5.107->torch>=1.11.0->sentence-transformers)\n",
            "  Using cached nvidia_nvjitlink_cu12-12.4.127-py3-none-manylinux2014_x86_64.whl (21.1 MB)\n",
            "Requirement already satisfied: regex!=2019.12.17 in /usr/local/lib/python3.10/dist-packages (from transformers<5.0.0,>=4.34.0->sentence-transformers) (2023.12.25)\n",
            "Requirement already satisfied: tokenizers<0.20,>=0.19 in /usr/local/lib/python3.10/dist-packages (from transformers<5.0.0,>=4.34.0->sentence-transformers) (0.19.1)\n",
            "Requirement already satisfied: safetensors>=0.4.1 in /usr/local/lib/python3.10/dist-packages (from transformers<5.0.0,>=4.34.0->sentence-transformers) (0.4.3)\n",
            "Requirement already satisfied: joblib>=1.1.1 in /usr/local/lib/python3.10/dist-packages (from scikit-learn->sentence-transformers) (1.4.0)\n",
            "Requirement already satisfied: threadpoolctl>=2.0.0 in /usr/local/lib/python3.10/dist-packages (from scikit-learn->sentence-transformers) (3.5.0)\n",
            "Requirement already satisfied: MarkupSafe>=2.0 in /usr/local/lib/python3.10/dist-packages (from jinja2->torch>=1.11.0->sentence-transformers) (2.1.5)\n",
            "Requirement already satisfied: charset-normalizer<4,>=2 in /usr/local/lib/python3.10/dist-packages (from requests->huggingface-hub>=0.15.1->sentence-transformers) (3.3.2)\n",
            "Requirement already satisfied: idna<4,>=2.5 in /usr/local/lib/python3.10/dist-packages (from requests->huggingface-hub>=0.15.1->sentence-transformers) (3.7)\n",
            "Requirement already satisfied: urllib3<3,>=1.21.1 in /usr/local/lib/python3.10/dist-packages (from requests->huggingface-hub>=0.15.1->sentence-transformers) (2.0.7)\n",
            "Requirement already satisfied: certifi>=2017.4.17 in /usr/local/lib/python3.10/dist-packages (from requests->huggingface-hub>=0.15.1->sentence-transformers) (2024.2.2)\n",
            "Requirement already satisfied: mpmath>=0.19 in /usr/local/lib/python3.10/dist-packages (from sympy->torch>=1.11.0->sentence-transformers) (1.3.0)\n",
            "Installing collected packages: nvidia-nvtx-cu12, nvidia-nvjitlink-cu12, nvidia-nccl-cu12, nvidia-curand-cu12, nvidia-cufft-cu12, nvidia-cuda-runtime-cu12, nvidia-cuda-nvrtc-cu12, nvidia-cuda-cupti-cu12, nvidia-cublas-cu12, nvidia-cusparse-cu12, nvidia-cudnn-cu12, nvidia-cusolver-cu12, sentence-transformers\n",
            "Successfully installed nvidia-cublas-cu12-12.1.3.1 nvidia-cuda-cupti-cu12-12.1.105 nvidia-cuda-nvrtc-cu12-12.1.105 nvidia-cuda-runtime-cu12-12.1.105 nvidia-cudnn-cu12-8.9.2.26 nvidia-cufft-cu12-11.0.2.54 nvidia-curand-cu12-10.3.2.106 nvidia-cusolver-cu12-11.4.5.107 nvidia-cusparse-cu12-12.1.0.106 nvidia-nccl-cu12-2.19.3 nvidia-nvjitlink-cu12-12.4.127 nvidia-nvtx-cu12-12.1.105 sentence-transformers-2.7.0\n"
          ]
        }
      ],
      "source": [
        "! pip install transformers\n",
        "! pip install -U sentence-transformers"
      ]
    },
    {
      "cell_type": "markdown",
      "metadata": {
        "id": "TErvZ-FwFHWW"
      },
      "source": [
        "### Implementation"
      ]
    },
    {
      "cell_type": "code",
      "execution_count": null,
      "metadata": {
        "colab": {
          "base_uri": "https://localhost:8080/"
        },
        "id": "p06yHkG9Z5rS",
        "outputId": "d522aeb6-ca12-499f-f987-b3639a9f04b8"
      },
      "outputs": [
        {
          "output_type": "stream",
          "name": "stderr",
          "text": [
            "[nltk_data] Downloading package punkt to /root/nltk_data...\n",
            "[nltk_data]   Unzipping tokenizers/punkt.zip.\n"
          ]
        },
        {
          "output_type": "stream",
          "name": "stdout",
          "text": [
            ">> Total Number of Corpus : 72677\n"
          ]
        }
      ],
      "source": [
        "##########################################\n",
        "### 1. Load Clean English Legal Dataset ###\n",
        "##########################################\n",
        "import torch\n",
        "import nltk\n",
        "nltk.download('punkt')\n",
        "from nltk.tokenize import sent_tokenize\n",
        "import glob\n",
        "\n",
        "# Specify the device as a GPU\n",
        "device = torch.device(\"cuda:0\" if torch.cuda.is_available() else \"cpu\")\n",
        "\n",
        "file_path = \"/content/drive/MyDrive/FYP/Dataset/SelectedFiles/*.txt\"\n",
        "all_text = \"\"\n",
        "for filename in glob.glob(file_path):\n",
        "    with open(filename, 'r') as f:\n",
        "        all_text += f.read()\n",
        "sent_list = sent_tokenize(all_text)\n",
        "\n",
        "print(\">> Total Number of Corpus : {}\".format(len(sent_list)))"
      ]
    },
    {
      "cell_type": "code",
      "execution_count": null,
      "metadata": {
        "id": "cmP4L2Lzfn_y"
      },
      "outputs": [],
      "source": [
        "#######################################\n",
        "## 2. Denoising Auto-Encoder Dataset ##\n",
        "#######################################\n",
        "from torch.utils.data import Dataset\n",
        "from sentence_transformers.readers.InputExample import InputExample\n",
        "import random\n",
        "import numpy as np\n",
        "\n",
        "class DenoisingAutoEncoderDataset(Dataset):\n",
        "    def __init__(self, sentences, noise_fn = lambda sent :  DenoisingAutoEncoderDataset.delete(sent)):\n",
        "        self.sentences = sentences\n",
        "        self.noise_fn = noise_fn\n",
        "\n",
        "    def __getitem__(self, item):\n",
        "        sent = self.sentences[item]\n",
        "        return InputExample(texts=[self.noise_fn(sent), sent])  # label : Similar[0], texts : {Noised text, Original text}\n",
        "\n",
        "    def __len__(self):\n",
        "        return len(self.sentences)\n",
        "\n",
        "    # Noise function\n",
        "    @staticmethod\n",
        "    def delete(text, del_ratio = 0.55): # ratio 60 % is best performance\n",
        "        words_tok = nltk.word_tokenize(text)\n",
        "        n = len(words_tok)\n",
        "        if n == 0:\n",
        "            return text\n",
        "\n",
        "        keep_or_not = np.random.rand(n) > del_ratio  # [False, Fasle, True, True, False, True]\n",
        "        if sum(keep_or_not) == 0:                    # number of [True]\n",
        "            keep_or_not[np.random.choice(n)] = True\n",
        "        words_processed = \" \".join(np.array(words_tok)[keep_or_not])\n",
        "        return words_processed"
      ]
    },
    {
      "cell_type": "code",
      "execution_count": null,
      "metadata": {
        "id": "zMjYe0KYfsAD"
      },
      "outputs": [],
      "source": [
        "import torch.nn as nn\n",
        "from transformers import AutoConfig, AutoTokenizer, AutoModelForCausalLM, PreTrainedModel\n",
        "\n",
        "\n",
        "class DenoisingAutoEncoderLoss(nn.Module):\n",
        "    def __init__(self, model, decoder_name=None, tie_encoder_decoder=True):\n",
        "        super(DenoisingAutoEncoderLoss, self).__init__()\n",
        "        self.encoder = model\n",
        "        self.tokenizer_encoder = model.tokenizer\n",
        "        encoder_name = model[0].auto_model.config._name_or_path\n",
        "\n",
        "        if decoder_name is None:\n",
        "            assert tie_encoder_decoder, \"Must indicate the decoder_name argument when tie_encoder_decoder = False\"\n",
        "        if tie_encoder_decoder:\n",
        "            decoder_name = encoder_name\n",
        "\n",
        "        self.tokenizer_decoder = AutoTokenizer.from_pretrained(decoder_name)\n",
        "        self.need_retokenization = not (type(self.tokenizer_encoder) == type(self.tokenizer_decoder))\n",
        "\n",
        "        decoder_config = AutoConfig.from_pretrained(decoder_name)\n",
        "        decoder_config.is_decoder = True\n",
        "        decoder_config.add_cross_attention = True\n",
        "        kwargs_decoder = {'config': decoder_config}\n",
        "        self.decoder = AutoModelForCausalLM.from_pretrained(decoder_name, **kwargs_decoder)\n",
        "\n",
        "        if self.tokenizer_decoder.pad_token is None:\n",
        "            self.tokenizer_decoder.pad_token = self.tokenizer_decoder.eos_token\n",
        "            self.decoder.config.pad_token_id = self.decoder.config.eos_token_id\n",
        "\n",
        "        if tie_encoder_decoder:\n",
        "            if len(self.tokenizer_encoder) != len(self.tokenizer_decoder):\n",
        "                self.tokenizer_decoder = self.tokenizer_encoder\n",
        "                self.decoder.resize_token_embeddings(len(self.tokenizer_decoder))\n",
        "            decoder_base_model_prefix = self.decoder.base_model_prefix\n",
        "            PreTrainedModel._tie_encoder_decoder_weights(\n",
        "                model[0].auto_model,\n",
        "                self.decoder._modules[decoder_base_model_prefix],\n",
        "                self.decoder.base_model_prefix,\n",
        "                base_encoder_name=\"nlpaueb/Legal-bert-base-uncased\"\n",
        "            )\n",
        "\n",
        "    def retokenize(self, sentence_features):\n",
        "        input_ids = sentence_features['input_ids']\n",
        "        device = input_ids.device\n",
        "        sentences_decoded = self.tokenizer_encoder.batch_decode(\n",
        "            input_ids,\n",
        "            skip_special_tokens=True,\n",
        "            clean_up_tokenization_spaces=True\n",
        "        )\n",
        "        retokenized = self.tokenizer_decoder(\n",
        "            sentences_decoded,\n",
        "            padding=True,\n",
        "            truncation='longest_first',\n",
        "            return_tensors=\"pt\",\n",
        "            max_length=None).to(device)\n",
        "        return retokenized\n",
        "\n",
        "    def forward(self, sentence_features, labels):\n",
        "        source_features, target_features = tuple(sentence_features)  # (noised text, orginal text)\n",
        "        if self.need_retokenization:\n",
        "            target_features = self.retokenize(target_features)\n",
        "\n",
        "        # 1. Sentence Embedding from Encoder\n",
        "        reps = self.encoder(source_features)['sentence_embedding']  # [batch_size, hidden_dim]\n",
        "\n",
        "        target_length = target_features['input_ids'].shape[1]\n",
        "        decoder_input_ids = target_features['input_ids'].clone()[:, :target_length - 1]     # Decoder Input : input - [102] token\n",
        "        label_ids = target_features['input_ids'][:, 1:]                                     # Label : input - [102] token\n",
        "\n",
        "        # 2. Sentence Embedding from Decoder : output is CausalLMOutput with Cross Attentions\n",
        "        decoder_outputs = self.decoder(\n",
        "            input_ids = decoder_input_ids,\n",
        "            inputs_embeds = None,\n",
        "            attention_mask = None,\n",
        "            encoder_hidden_states = reps[:, None],  # (batch_size, hidden_dim) -> (batch_size, 1, hidden_dim)\n",
        "            encoder_attention_mask = source_features['attention_mask'][:, 0:1],\n",
        "            labels = None,\n",
        "            return_dict = None,\n",
        "            use_cache = False)  # decoder_outputs : [loss = None, logits]\n",
        "\n",
        "        # 3. Calculate Loss\n",
        "        lm_logits = decoder_outputs[0]  # logits : [batch_size, seq_length, vocab_size]\n",
        "        ce_loss_fct = nn.CrossEntropyLoss(ignore_index = self.tokenizer_decoder.pad_token_id)\n",
        "        loss = ce_loss_fct(lm_logits.view(-1, lm_logits.shape[-1]), label_ids.reshape(-1)) # CE_Loss([seq_length, vocab_size], [seq_length])\n",
        "        return loss\n"
      ]
    },
    {
      "cell_type": "code",
      "execution_count": null,
      "metadata": {
        "id": "Hdh6qOh7f7U2"
      },
      "outputs": [],
      "source": [
        "################################################\n",
        "## 4. TSDAE unsupervised-embeddings training  ##\n",
        "################################################\n",
        "from torch.utils.data import DataLoader\n",
        "from sentence_transformers import SentenceTransformer, models\n",
        "from transformers import AutoTokenizer, AutoConfig, AutoModelForSequenceClassification, PreTrainedModel\n",
        "\n",
        "# dataset with noise function\n",
        "train_data = DenoisingAutoEncoderDataset(sent_list)\n",
        "\n",
        "def collate_gpu(batch):\n",
        "    x, t = torch.utils.data.dataloader.default_collate(batch)\n",
        "    return x, t\n",
        "\n",
        "# def preprocess(x, y):\n",
        "#     return x.to(device), y.to(device)\n",
        "\n",
        "\n",
        "# class WrappedDataLoader:\n",
        "#     def __init__(self, dl, func):\n",
        "#         self.dl = dl\n",
        "#         self.func = func\n",
        "\n",
        "#     def __len__(self):\n",
        "#         return len(self.dl)\n",
        "\n",
        "#     def __iter__(self):\n",
        "#         for b in self.dl:\n",
        "#             yield (self.func(*b))\n",
        "\n",
        "# dataloader\n",
        "loader = DataLoader(\n",
        "    train_data,\n",
        "    batch_size = 8,\n",
        "    shuffle = True,\n",
        "    drop_last = True,\n",
        "    pin_memory= True,\n",
        "    collate_fn=collate_gpu)\n",
        "\n",
        "# loader = WrappedDataLoader(loader, preprocess)\n",
        "\n",
        "# Transformers models\n",
        "model_name = 'nlpaueb/Legal-bert-base-uncased'\n",
        "pooling_strategy = 'mean'\n",
        "bert = models.Transformer(model_name)\n",
        "bert = bert.to(device)\n",
        "\n",
        "# Sentence Embedding using Mean Pooling\n",
        "pooling = models.Pooling(bert.get_word_embedding_dimension(), pooling_strategy) # cls, mean, max\n",
        "pooling = pooling.to(device)\n",
        "model = SentenceTransformer(modules = [bert, pooling] )\n",
        "model = model.to(device)\n",
        "\n",
        "# Use Loss function\n",
        "loss = DenoisingAutoEncoderLoss(model, tie_encoder_decoder = True)"
      ]
    },
    {
      "cell_type": "markdown",
      "metadata": {
        "id": "s7xwZcB4Dmy1"
      },
      "source": [
        "## Model training"
      ]
    },
    {
      "cell_type": "code",
      "execution_count": null,
      "metadata": {
        "id": "ebQnmkvpgusH"
      },
      "outputs": [],
      "source": [
        "import os\n",
        "import torch\n",
        "import tensorflow as tf\n",
        "\n",
        "# Train\n",
        "epochs = 1\n",
        "warmup_steps = int(len(loader) * epochs * 0.10) # Warmup 10 %\n",
        "\n",
        "# Create the checkpoint directory if it doesn't exist\n",
        "checkpoint_dir = '/content/drive/MyDrive/FYP/models-final/tsdae_trained_model/checkpoints'\n",
        "os.makedirs(checkpoint_dir, exist_ok=True)\n",
        "# Include the epoch in the file name (uses `str.format`)\n",
        "checkpoint_path = \"cp-{epoch:02d}-{step:04d}.pt\"\n",
        "cp_callback = tf.keras.callbacks.ModelCheckpoint(\n",
        "    filepath=os.path.join(checkpoint_dir, checkpoint_path),\n",
        "    verbose=1,\n",
        "    save_weights_only=True,\n",
        "    save_freq='epoch'\n",
        ")\n",
        "\n",
        "# Load the last checkpoint if available\n",
        "checkpoint_file = os.path.join(checkpoint_dir, 'cp-{:02d}-{:04d}.pt'.format(0, 0))\n",
        "if os.path.exists(checkpoint_file):\n",
        "    checkpoint = torch.load(checkpoint_file)\n",
        "    start_epoch = checkpoint['epoch']\n",
        "    model.load_state_dict(checkpoint['model_state_dict'])\n",
        "    optimizer.load_state_dict(checkpoint['optimizer_state_dict'])\n",
        "else:\n",
        "    start_epoch = 0\n",
        "\n",
        "# Train the model\n",
        "for epoch in range(start_epoch, epochs):\n",
        "    model.fit(\n",
        "        train_objectives=[(loader, loss)],\n",
        "        epochs=1,  # Train for 1 epoch per iteration\n",
        "        warmup_steps=warmup_steps,\n",
        "        weight_decay=0,\n",
        "        scheduler='constantlr',\n",
        "        optimizer_params={'lr': 3e-5},\n",
        "        show_progress_bar=True,\n",
        "        callback=[cp_callback]\n",
        "    )\n",
        "\n",
        "    # Save the last checkpoint as a single file\n",
        "    checkpoint_file = os.path.join(checkpoint_dir, 'cp-{:02d}-{:04d}.pt'.format(epoch+1, 0))\n",
        "    torch.save({\n",
        "        'epoch': epoch+1,\n",
        "        'model_state_dict': model.state_dict(),\n",
        "        'optimizer_state_dict': optimizer.state_dict(),\n",
        "    }, checkpoint_file)"
      ]
    },
    {
      "cell_type": "code",
      "source": [
        "import os\n",
        "import tensorflow as tf\n",
        "import keras\n",
        "import pytorch_lightning\n",
        "\n",
        "# Train\n",
        "epochs = 5\n",
        "warmup_steps = int(len(loader) * epochs * 0.10)  # Warmup 10%\n",
        "\n",
        "# Create the checkpoint directory if it doesn't exist\n",
        "checkpoint_dir = 'models-final/tsdae_trained_model/checkpoints'\n",
        "os.makedirs(checkpoint_dir, exist_ok=True)\n",
        "\n",
        "import os\n",
        "import pytorch_lightning as pl\n",
        "\n",
        "class CheckpointEveryNSteps(pl.Callback):\n",
        "    \"\"\"\n",
        "    Save a checkpoint every N steps, instead of Lightning's default that checkpoints\n",
        "    based on validation loss.\n",
        "    \"\"\"\n",
        "\n",
        "    def __init__(\n",
        "        self,\n",
        "        save_step_frequency,\n",
        "        prefix=\"N-Step-Checkpoint\",\n",
        "        use_modelcheckpoint_filename=False,\n",
        "    ):\n",
        "        \"\"\"\n",
        "        Args:\n",
        "            save_step_frequency: how often to save in steps\n",
        "            prefix: add a prefix to the name, only used if\n",
        "                use_modelcheckpoint_filename=False\n",
        "            use_modelcheckpoint_filename: just use the ModelCheckpoint callback's\n",
        "                default filename, don't use ours.\n",
        "        \"\"\"\n",
        "        self.save_step_frequency = save_step_frequency\n",
        "        self.prefix = prefix\n",
        "        self.use_modelcheckpoint_filename = use_modelcheckpoint_filename\n",
        "\n",
        "    def on_batch_end(self, trainer: pl.Trainer, _):\n",
        "        \"\"\" Check if we should save a checkpoint after every train batch \"\"\"\n",
        "        epoch = trainer.current_epoch\n",
        "        global_step = trainer.global_step\n",
        "        if global_step % self.save_step_frequency == 0:\n",
        "            if self.use_modelcheckpoint_filename:\n",
        "                filename = trainer.checkpoint_callback.filename\n",
        "            else:\n",
        "                filename = f\"{self.prefix}_{epoch=}_{global_step=}.ckpt\"\n",
        "            ckpt_path = os.path.join(trainer.checkpoint_callback.dirpath, filename)\n",
        "            trainer.save_checkpoint(ckpt_path)\n",
        "\n",
        "\n",
        "# Train the model\n",
        "start_epoch = 0\n",
        "for epoch in range(start_epoch, epochs):\n",
        "    model.fit(\n",
        "        train_objectives=[(loader, loss)],\n",
        "        epochs=1,  # Train for 1 epoch per iteration\n",
        "        warmup_steps=warmup_steps,\n",
        "        weight_decay=0,\n",
        "        scheduler='constantlr',\n",
        "        optimizer_params={'lr': 3e-5},\n",
        "        show_progress_bar=True,\n",
        "        callback=[CheckpointEveryNSteps(save_step_frequency=1000)]\n",
        "    )\n",
        "\n",
        "#     # Save the last checkpoint as a single file\n",
        "#     checkpoint_file = os.path.join(checkpoint_dir, 'cp-{:02d}-{:04d}.pt'.format(epoch+1, 0))\n",
        "#     tf.train.save_checkpoint({\n",
        "#         'epoch': epoch+1,\n",
        "#         'model_state_dict': model.state_dict(),\n",
        "#         'optimizer_state_dict': optimizer.state_dict(),\n",
        "#     }, checkpoint_file)"
      ],
      "metadata": {
        "id": "Wclv_e4KLiFL"
      },
      "execution_count": null,
      "outputs": []
    },
    {
      "cell_type": "markdown",
      "metadata": {
        "id": "vIe1W4SPDs5o"
      },
      "source": [
        "## Saving Model"
      ]
    },
    {
      "cell_type": "code",
      "execution_count": null,
      "metadata": {
        "id": "RR7g8mIkgy-r"
      },
      "outputs": [],
      "source": [
        "# Save final model\n",
        "model.save('/content/drive/MyDrive/FYP/models/tsdae_trained_model')"
      ]
    },
    {
      "cell_type": "markdown",
      "metadata": {
        "id": "EGu1aMuZttvf"
      },
      "source": [
        "## Model testing"
      ]
    },
    {
      "cell_type": "markdown",
      "metadata": {
        "id": "3VcCIN-UD7fV"
      },
      "source": [
        "### Load the model"
      ]
    },
    {
      "cell_type": "code",
      "execution_count": null,
      "metadata": {
        "id": "95MI8hg1shBF"
      },
      "outputs": [],
      "source": [
        "import torch\n",
        "from transformers import AutoTokenizer, AutoModelForCausalLM\n",
        "\n",
        "# Load the trained model and tokenizer\n",
        "model_path = '/content/drive/MyDrive/FYP/models/tsdae_trained_model'\n",
        "tokenizer_path = '/content/drive/MyDrive/FYP/models/tsdae_trained_model/tokenizer'\n",
        "model = AutoModelForCausalLM.from_pretrained(model_path)\n",
        "tokenizer = AutoTokenizer.from_pretrained(tokenizer_path)\n"
      ]
    },
    {
      "cell_type": "markdown",
      "metadata": {
        "id": "5LGi1tHTEDM_"
      },
      "source": [
        "### Finding average cosine similarity between embeddings"
      ]
    },
    {
      "cell_type": "code",
      "execution_count": null,
      "metadata": {
        "id": "DpBGWZBrZbeV"
      },
      "outputs": [],
      "source": [
        "from transformers import AutoTokenizer, AutoModel\n",
        "import torch\n",
        "import torch.nn.functional as F\n",
        "\n",
        "# Load LegalBERT model and tokenizer\n",
        "model_name = \"nlpaueb/Legal-bert-base-uncased\"\n",
        "tokenizer = AutoTokenizer.from_pretrained(model_name)\n",
        "model = AutoModel.from_pretrained(model_name)\n",
        "\n",
        "# Example sentences for testing\n",
        "test_sentences = [\n",
        "    \"Constitution of India, petitioner seeks to challenge amendments.\",\n",
        "    \"By the said deed the goodwill was not assigned.\",\n",
        "    \"Central Bureau of Investigation (in short 'CBI') questions legality of the judgment.\"\n",
        "]\n",
        "\n",
        "# Tokenize the input sentences\n",
        "input_ids = [tokenizer(sentence, return_tensors='pt', padding=True, truncation=True)['input_ids'] for sentence in test_sentences]\n",
        "attention_masks = [input_id.ne(tokenizer.pad_token_id) for input_id in input_ids]\n",
        "\n",
        "# Generate embeddings for the test sentences using BERT\n",
        "with torch.no_grad():\n",
        "    bert_embeddings = [model(**{'input_ids': input_id, 'attention_mask': attention_mask})[0][:, 0, :] for input_id, attention_mask in zip(input_ids, attention_masks)]\n",
        "\n",
        "# Load the trained model and tokenizer\n",
        "model_path = '/content/drive/MyDrive/FYP/models/tsdae_trained_model'\n",
        "tokenizer_path = '/content/drive/MyDrive/FYP/models/tsdae_trained_model/tokenizer'\n",
        "tokenizer = AutoTokenizer.from_pretrained(tokenizer_path)\n",
        "model = AutoModel.from_pretrained(model_path)\n",
        "\n",
        "# Generate embeddings for the test sentences using the trained model\n",
        "with torch.no_grad():\n",
        "    embeddings = [model(**{'input_ids': input_id, 'attention_mask': attention_mask})[0][:, 0, :] for input_id, attention_mask in zip(input_ids, attention_masks)]\n",
        "\n",
        "# Calculate and display the average cosine similarity between BERT and trained model embeddings\n",
        "for i in range(len(test_sentences)):\n",
        "    bert_embedding = bert_embeddings[i]\n",
        "    trained_embedding = embeddings[i]\n",
        "    similarity = F.cosine_similarity(bert_embedding, trained_embedding, dim=1).mean()\n",
        "    print(f\"Sentence: {test_sentences[i]}\")\n",
        "    print(f\"Average Cosine Similarity between BERT and Trained Model embeddings: {similarity.item()}\")\n",
        "    print()\n"
      ]
    },
    {
      "cell_type": "code",
      "execution_count": null,
      "metadata": {
        "id": "ckFsvYXnr3gL"
      },
      "outputs": [],
      "source": [
        "from transformers import BertTokenizer, BertForMaskedLM\n",
        "import torch\n",
        "\n",
        "# Load the trained model and tokenizer\n",
        "model_path = '/content/drive/MyDrive/FYP/models/tsdae_trained_model'\n",
        "tokenizer_path = '/content/drive/MyDrive/FYP/models/tsdae_trained_model/tokenizer'\n",
        "tokenizer = AutoTokenizer.from_pretrained(tokenizer_path)\n",
        "model = AutoModel.from_pretrained(model_path)\n",
        "\n",
        "# Test sentences with masked tokens\n",
        "test_sentences = [\n",
        "    \"Constitution of India, petitioner seeks to challenge [MASK] amendments.\",\n",
        "    \"By the said deed the goodwill was not [MASK] .\",\n",
        "    \"Central Bureau of [MASK] (in short 'CBI') questions legality of the judgment.\"\n",
        "]\n",
        "\n",
        "# Tokenize test sentences and pad to the same length\n",
        "tokenized_test_sentences = [tokenizer.tokenize(sentence) for sentence in test_sentences]\n",
        "max_len = max(len(tokens) for tokens in tokenized_test_sentences)\n",
        "padded_test_sentences = [tokens + ['[PAD]'] * (max_len - len(tokens)) for tokens in tokenized_test_sentences]\n",
        "\n",
        "# Convert tokens to IDs\n",
        "input_ids = [tokenizer.convert_tokens_to_ids(tokens) for tokens in padded_test_sentences]\n",
        "\n",
        "# Convert IDs to tensors\n",
        "input_ids_tensor = torch.tensor(input_ids)\n",
        "\n",
        "# Perform inference\n",
        "with torch.no_grad():\n",
        "    outputs = model(input_ids=input_ids_tensor)\n",
        "\n",
        "# Get predicted logits\n",
        "predicted_logits = outputs.logits\n",
        "\n",
        "# Get predicted token IDs\n",
        "predicted_token_ids = torch.argmax(predicted_logits, dim=-1)\n",
        "\n",
        "# Convert token IDs back to tokens\n",
        "predicted_tokens = [tokenizer.convert_ids_to_tokens(token_ids.tolist()) for token_ids in predicted_token_ids]\n",
        "\n",
        "# Print predictions\n",
        "for i, sentence in enumerate(test_sentences):\n",
        "    masked_index = tokenized_test_sentences[i].index('[MASK]')\n",
        "    predicted_token = predicted_tokens[i][masked_index]\n",
        "    print(f\"Sentence: {sentence}\")\n",
        "    print(f\"Predicted Token: {predicted_token}\")\n",
        "    print()"
      ]
    }
  ],
  "metadata": {
    "accelerator": "GPU",
    "colab": {
      "gpuType": "T4",
      "machine_shape": "hm",
      "provenance": [],
      "include_colab_link": true
    },
    "kernelspec": {
      "display_name": "Python 3",
      "name": "python3"
    },
    "language_info": {
      "name": "python"
    }
  },
  "nbformat": 4,
  "nbformat_minor": 0
}